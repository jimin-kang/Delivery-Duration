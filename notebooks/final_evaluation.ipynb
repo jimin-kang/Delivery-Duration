{
 "cells": [
  {
   "cell_type": "markdown",
   "metadata": {},
   "source": [
    "In this notebook, we'll evalute the best model chosen from our modeling experiments on our test data.\n",
    "\n",
    "There are some feature engineering steps that we did on our train data that we'll have to duplicate here. Specifically, we'll need to create the following features:\n",
    "- store_id_freq\n",
    "- store_category_type\n",
    "- item_price_range\n",
    "- hour_of_day\n",
    "\n",
    "The rest of the data cleaning/preprocessing steps (imputing missing values, scaling data, dropping correlated features) will be taken care of in the pipeline defined in the model artifact."
   ]
  },
  {
   "cell_type": "code",
   "execution_count": 53,
   "metadata": {},
   "outputs": [
    {
     "name": "stdout",
     "output_type": "stream",
     "text": [
      "The autoreload extension is already loaded. To reload it, use:\n",
      "  %reload_ext autoreload\n"
     ]
    }
   ],
   "source": [
    "# ensures notebook automatically recieves updates from relevant .py files\n",
    "%load_ext autoreload\n",
    "%autoreload 2"
   ]
  },
  {
   "cell_type": "code",
   "execution_count": 54,
   "metadata": {},
   "outputs": [],
   "source": [
    "import pandas as pd\n",
    "import numpy as np\n",
    "import seaborn as sns\n",
    "import matplotlib.pyplot as plt\n",
    "import os"
   ]
  },
  {
   "cell_type": "markdown",
   "metadata": {},
   "source": [
    "Load test data."
   ]
  },
  {
   "cell_type": "code",
   "execution_count": 55,
   "metadata": {},
   "outputs": [
    {
     "data": {
      "text/html": [
       "<div>\n",
       "<style scoped>\n",
       "    .dataframe tbody tr th:only-of-type {\n",
       "        vertical-align: middle;\n",
       "    }\n",
       "\n",
       "    .dataframe tbody tr th {\n",
       "        vertical-align: top;\n",
       "    }\n",
       "\n",
       "    .dataframe thead th {\n",
       "        text-align: right;\n",
       "    }\n",
       "</style>\n",
       "<table border=\"1\" class=\"dataframe\">\n",
       "  <thead>\n",
       "    <tr style=\"text-align: right;\">\n",
       "      <th></th>\n",
       "      <th>market_id</th>\n",
       "      <th>created_at</th>\n",
       "      <th>actual_delivery_time</th>\n",
       "      <th>store_id</th>\n",
       "      <th>store_primary_category</th>\n",
       "      <th>order_protocol</th>\n",
       "      <th>total_items</th>\n",
       "      <th>subtotal</th>\n",
       "      <th>num_distinct_items</th>\n",
       "      <th>min_item_price</th>\n",
       "      <th>max_item_price</th>\n",
       "      <th>total_onshift_dashers</th>\n",
       "      <th>total_busy_dashers</th>\n",
       "      <th>total_outstanding_orders</th>\n",
       "      <th>estimated_order_place_duration</th>\n",
       "      <th>estimated_store_to_consumer_driving_duration</th>\n",
       "      <th>seconds_to_delivery</th>\n",
       "    </tr>\n",
       "  </thead>\n",
       "  <tbody>\n",
       "    <tr>\n",
       "      <th>0</th>\n",
       "      <td>4.0</td>\n",
       "      <td>2015-01-26 03:38:40+00:00</td>\n",
       "      <td>2015-01-26 04:00:55+00:00</td>\n",
       "      <td>3502</td>\n",
       "      <td>mediterranean</td>\n",
       "      <td>3.0</td>\n",
       "      <td>2</td>\n",
       "      <td>2450</td>\n",
       "      <td>2</td>\n",
       "      <td>1200</td>\n",
       "      <td>1250</td>\n",
       "      <td>32.0</td>\n",
       "      <td>50.0</td>\n",
       "      <td>29.0</td>\n",
       "      <td>251</td>\n",
       "      <td>487.0</td>\n",
       "      <td>1335.0</td>\n",
       "    </tr>\n",
       "    <tr>\n",
       "      <th>1</th>\n",
       "      <td>4.0</td>\n",
       "      <td>2015-02-07 01:59:48+00:00</td>\n",
       "      <td>2015-02-07 02:54:38+00:00</td>\n",
       "      <td>6917</td>\n",
       "      <td>vietnamese</td>\n",
       "      <td>5.0</td>\n",
       "      <td>1</td>\n",
       "      <td>875</td>\n",
       "      <td>1</td>\n",
       "      <td>875</td>\n",
       "      <td>875</td>\n",
       "      <td>124.0</td>\n",
       "      <td>121.0</td>\n",
       "      <td>201.0</td>\n",
       "      <td>251</td>\n",
       "      <td>601.0</td>\n",
       "      <td>3290.0</td>\n",
       "    </tr>\n",
       "    <tr>\n",
       "      <th>2</th>\n",
       "      <td>6.0</td>\n",
       "      <td>2015-02-03 03:32:09+00:00</td>\n",
       "      <td>2015-02-03 04:15:45+00:00</td>\n",
       "      <td>704</td>\n",
       "      <td>indian</td>\n",
       "      <td>3.0</td>\n",
       "      <td>4</td>\n",
       "      <td>2340</td>\n",
       "      <td>3</td>\n",
       "      <td>225</td>\n",
       "      <td>995</td>\n",
       "      <td>NaN</td>\n",
       "      <td>NaN</td>\n",
       "      <td>NaN</td>\n",
       "      <td>251</td>\n",
       "      <td>666.0</td>\n",
       "      <td>2616.0</td>\n",
       "    </tr>\n",
       "    <tr>\n",
       "      <th>3</th>\n",
       "      <td>1.0</td>\n",
       "      <td>2015-01-26 02:17:51+00:00</td>\n",
       "      <td>2015-01-26 02:45:13+00:00</td>\n",
       "      <td>1424</td>\n",
       "      <td>pizza</td>\n",
       "      <td>5.0</td>\n",
       "      <td>1</td>\n",
       "      <td>2594</td>\n",
       "      <td>1</td>\n",
       "      <td>1599</td>\n",
       "      <td>1599</td>\n",
       "      <td>43.0</td>\n",
       "      <td>43.0</td>\n",
       "      <td>55.0</td>\n",
       "      <td>251</td>\n",
       "      <td>452.0</td>\n",
       "      <td>1642.0</td>\n",
       "    </tr>\n",
       "    <tr>\n",
       "      <th>4</th>\n",
       "      <td>4.0</td>\n",
       "      <td>2015-02-12 21:00:01+00:00</td>\n",
       "      <td>2015-02-12 21:32:57+00:00</td>\n",
       "      <td>5583</td>\n",
       "      <td>sandwich</td>\n",
       "      <td>2.0</td>\n",
       "      <td>6</td>\n",
       "      <td>3871</td>\n",
       "      <td>5</td>\n",
       "      <td>420</td>\n",
       "      <td>703</td>\n",
       "      <td>47.0</td>\n",
       "      <td>36.0</td>\n",
       "      <td>36.0</td>\n",
       "      <td>251</td>\n",
       "      <td>304.0</td>\n",
       "      <td>1976.0</td>\n",
       "    </tr>\n",
       "  </tbody>\n",
       "</table>\n",
       "</div>"
      ],
      "text/plain": [
       "   market_id                 created_at       actual_delivery_time  store_id  \\\n",
       "0        4.0  2015-01-26 03:38:40+00:00  2015-01-26 04:00:55+00:00      3502   \n",
       "1        4.0  2015-02-07 01:59:48+00:00  2015-02-07 02:54:38+00:00      6917   \n",
       "2        6.0  2015-02-03 03:32:09+00:00  2015-02-03 04:15:45+00:00       704   \n",
       "3        1.0  2015-01-26 02:17:51+00:00  2015-01-26 02:45:13+00:00      1424   \n",
       "4        4.0  2015-02-12 21:00:01+00:00  2015-02-12 21:32:57+00:00      5583   \n",
       "\n",
       "  store_primary_category  order_protocol  total_items  subtotal  \\\n",
       "0          mediterranean             3.0            2      2450   \n",
       "1             vietnamese             5.0            1       875   \n",
       "2                 indian             3.0            4      2340   \n",
       "3                  pizza             5.0            1      2594   \n",
       "4               sandwich             2.0            6      3871   \n",
       "\n",
       "   num_distinct_items  min_item_price  max_item_price  total_onshift_dashers  \\\n",
       "0                   2            1200            1250                   32.0   \n",
       "1                   1             875             875                  124.0   \n",
       "2                   3             225             995                    NaN   \n",
       "3                   1            1599            1599                   43.0   \n",
       "4                   5             420             703                   47.0   \n",
       "\n",
       "   total_busy_dashers  total_outstanding_orders  \\\n",
       "0                50.0                      29.0   \n",
       "1               121.0                     201.0   \n",
       "2                 NaN                       NaN   \n",
       "3                43.0                      55.0   \n",
       "4                36.0                      36.0   \n",
       "\n",
       "   estimated_order_place_duration  \\\n",
       "0                             251   \n",
       "1                             251   \n",
       "2                             251   \n",
       "3                             251   \n",
       "4                             251   \n",
       "\n",
       "   estimated_store_to_consumer_driving_duration  seconds_to_delivery  \n",
       "0                                         487.0               1335.0  \n",
       "1                                         601.0               3290.0  \n",
       "2                                         666.0               2616.0  \n",
       "3                                         452.0               1642.0  \n",
       "4                                         304.0               1976.0  "
      ]
     },
     "execution_count": 55,
     "metadata": {},
     "output_type": "execute_result"
    }
   ],
   "source": [
    "data_path = '../datasets/test_data.csv'\n",
    "\n",
    "test_df = pd.read_csv(data_path)\n",
    "\n",
    "test_df.head()"
   ]
  },
  {
   "cell_type": "markdown",
   "metadata": {},
   "source": [
    "**Prep Test Data**"
   ]
  },
  {
   "cell_type": "markdown",
   "metadata": {},
   "source": [
    "Create store_id_freq"
   ]
  },
  {
   "cell_type": "code",
   "execution_count": 56,
   "metadata": {},
   "outputs": [],
   "source": [
    "import sys\n",
    "sys.path.append('../utils')\n",
    "import feature_eng_utils"
   ]
  },
  {
   "cell_type": "code",
   "execution_count": 57,
   "metadata": {},
   "outputs": [
    {
     "data": {
      "text/html": [
       "<div>\n",
       "<style scoped>\n",
       "    .dataframe tbody tr th:only-of-type {\n",
       "        vertical-align: middle;\n",
       "    }\n",
       "\n",
       "    .dataframe tbody tr th {\n",
       "        vertical-align: top;\n",
       "    }\n",
       "\n",
       "    .dataframe thead th {\n",
       "        text-align: right;\n",
       "    }\n",
       "</style>\n",
       "<table border=\"1\" class=\"dataframe\">\n",
       "  <thead>\n",
       "    <tr style=\"text-align: right;\">\n",
       "      <th></th>\n",
       "      <th>Count</th>\n",
       "    </tr>\n",
       "    <tr>\n",
       "      <th>Frequency Bin</th>\n",
       "      <th></th>\n",
       "    </tr>\n",
       "  </thead>\n",
       "  <tbody>\n",
       "    <tr>\n",
       "      <th>[90-99)</th>\n",
       "      <td>14434</td>\n",
       "    </tr>\n",
       "    <tr>\n",
       "      <th>[75-90)</th>\n",
       "      <td>9725</td>\n",
       "    </tr>\n",
       "    <tr>\n",
       "      <th>[50-75)</th>\n",
       "      <td>7440</td>\n",
       "    </tr>\n",
       "    <tr>\n",
       "      <th>99+</th>\n",
       "      <td>4832</td>\n",
       "    </tr>\n",
       "    <tr>\n",
       "      <th>[0-50)</th>\n",
       "      <td>3054</td>\n",
       "    </tr>\n",
       "  </tbody>\n",
       "</table>\n",
       "</div>"
      ],
      "text/plain": [
       "               Count\n",
       "Frequency Bin       \n",
       "[90-99)        14434\n",
       "[75-90)         9725\n",
       "[50-75)         7440\n",
       "99+             4832\n",
       "[0-50)          3054"
      ]
     },
     "execution_count": 57,
     "metadata": {},
     "output_type": "execute_result"
    }
   ],
   "source": [
    "from feature_eng_utils import encode_frequency\n",
    "\n",
    "value_counts = test_df['store_id'].value_counts()\n",
    "percentiles = np.percentile(value_counts, [50, 75, 90, 99]) \n",
    "\n",
    "# apply encode_frequency to each store_id based on their number of orders\n",
    "test_df['store_id_freq'] = test_df['store_id'].apply(lambda x: encode_frequency(value_counts[x], percentiles))\n",
    "\n",
    "pd.DataFrame({'Count':test_df['store_id_freq'].value_counts()}).rename_axis('Frequency Bin')\n"
   ]
  },
  {
   "cell_type": "markdown",
   "metadata": {},
   "source": [
    "Create store_category_type"
   ]
  },
  {
   "cell_type": "code",
   "execution_count": 58,
   "metadata": {},
   "outputs": [
    {
     "data": {
      "text/html": [
       "<div>\n",
       "<style scoped>\n",
       "    .dataframe tbody tr th:only-of-type {\n",
       "        vertical-align: middle;\n",
       "    }\n",
       "\n",
       "    .dataframe tbody tr th {\n",
       "        vertical-align: top;\n",
       "    }\n",
       "\n",
       "    .dataframe thead th {\n",
       "        text-align: right;\n",
       "    }\n",
       "</style>\n",
       "<table border=\"1\" class=\"dataframe\">\n",
       "  <thead>\n",
       "    <tr style=\"text-align: right;\">\n",
       "      <th></th>\n",
       "      <th>Count</th>\n",
       "    </tr>\n",
       "    <tr>\n",
       "      <th>Store Category Type</th>\n",
       "      <th></th>\n",
       "    </tr>\n",
       "  </thead>\n",
       "  <tbody>\n",
       "    <tr>\n",
       "      <th>other</th>\n",
       "      <td>13583</td>\n",
       "    </tr>\n",
       "    <tr>\n",
       "      <th>asian</th>\n",
       "      <td>9526</td>\n",
       "    </tr>\n",
       "    <tr>\n",
       "      <th>american</th>\n",
       "      <td>7990</td>\n",
       "    </tr>\n",
       "    <tr>\n",
       "      <th>italian</th>\n",
       "      <td>4965</td>\n",
       "    </tr>\n",
       "    <tr>\n",
       "      <th>mexican</th>\n",
       "      <td>3421</td>\n",
       "    </tr>\n",
       "  </tbody>\n",
       "</table>\n",
       "</div>"
      ],
      "text/plain": [
       "                     Count\n",
       "Store Category Type       \n",
       "other                13583\n",
       "asian                 9526\n",
       "american              7990\n",
       "italian               4965\n",
       "mexican               3421"
      ]
     },
     "execution_count": 58,
     "metadata": {},
     "output_type": "execute_result"
    }
   ],
   "source": [
    "from feature_eng_utils import map_to_category_type\n",
    "\n",
    "test_df['store_category_type'] = test_df['store_primary_category'].apply(lambda x: map_to_category_type(x))\n",
    "\n",
    "value_counts = test_df['store_category_type'].value_counts()\n",
    "\n",
    "pd.DataFrame({'Count':test_df['store_category_type'].value_counts()}).rename_axis('Store Category Type')"
   ]
  },
  {
   "cell_type": "markdown",
   "metadata": {},
   "source": [
    "Create item_price_range"
   ]
  },
  {
   "cell_type": "code",
   "execution_count": 59,
   "metadata": {},
   "outputs": [
    {
     "data": {
      "text/html": [
       "<div>\n",
       "<style scoped>\n",
       "    .dataframe tbody tr th:only-of-type {\n",
       "        vertical-align: middle;\n",
       "    }\n",
       "\n",
       "    .dataframe tbody tr th {\n",
       "        vertical-align: top;\n",
       "    }\n",
       "\n",
       "    .dataframe thead th {\n",
       "        text-align: right;\n",
       "    }\n",
       "</style>\n",
       "<table border=\"1\" class=\"dataframe\">\n",
       "  <thead>\n",
       "    <tr style=\"text-align: right;\">\n",
       "      <th></th>\n",
       "      <th>max_item_price</th>\n",
       "      <th>min_item_price</th>\n",
       "      <th>item_price_range</th>\n",
       "    </tr>\n",
       "  </thead>\n",
       "  <tbody>\n",
       "    <tr>\n",
       "      <th>0</th>\n",
       "      <td>1250</td>\n",
       "      <td>1200</td>\n",
       "      <td>50</td>\n",
       "    </tr>\n",
       "    <tr>\n",
       "      <th>1</th>\n",
       "      <td>875</td>\n",
       "      <td>875</td>\n",
       "      <td>0</td>\n",
       "    </tr>\n",
       "    <tr>\n",
       "      <th>2</th>\n",
       "      <td>995</td>\n",
       "      <td>225</td>\n",
       "      <td>770</td>\n",
       "    </tr>\n",
       "    <tr>\n",
       "      <th>3</th>\n",
       "      <td>1599</td>\n",
       "      <td>1599</td>\n",
       "      <td>0</td>\n",
       "    </tr>\n",
       "    <tr>\n",
       "      <th>4</th>\n",
       "      <td>703</td>\n",
       "      <td>420</td>\n",
       "      <td>283</td>\n",
       "    </tr>\n",
       "  </tbody>\n",
       "</table>\n",
       "</div>"
      ],
      "text/plain": [
       "   max_item_price  min_item_price  item_price_range\n",
       "0            1250            1200                50\n",
       "1             875             875                 0\n",
       "2             995             225               770\n",
       "3            1599            1599                 0\n",
       "4             703             420               283"
      ]
     },
     "execution_count": 59,
     "metadata": {},
     "output_type": "execute_result"
    }
   ],
   "source": [
    "test_df['item_price_range'] = test_df['max_item_price'] - test_df['min_item_price']\n",
    "\n",
    "test_df[['max_item_price', 'min_item_price', 'item_price_range']].head()"
   ]
  },
  {
   "cell_type": "markdown",
   "metadata": {},
   "source": [
    "Create hour_of_day"
   ]
  },
  {
   "cell_type": "code",
   "execution_count": 60,
   "metadata": {},
   "outputs": [],
   "source": [
    "time_info = test_df['created_at'].astype(str).str.split().str[1]\n",
    "test_df['hour_of_day'] = time_info.str.split(\":\").str[0]"
   ]
  },
  {
   "cell_type": "markdown",
   "metadata": {},
   "source": [
    "Establish numeric vs. categorical features, & separate features from target."
   ]
  },
  {
   "cell_type": "code",
   "execution_count": 61,
   "metadata": {},
   "outputs": [],
   "source": [
    "numeric_feats = [\n",
    "    'total_items',\n",
    "    'subtotal',\n",
    "    'num_distinct_items',\n",
    "    'total_onshift_dashers',\n",
    "    'total_busy_dashers',\n",
    "    'total_outstanding_orders',\n",
    "    'estimated_order_place_duration',\n",
    "    'estimated_store_to_consumer_driving_duration',\n",
    "    'item_price_range',\n",
    "    'hour_of_day',\n",
    "]\n",
    "\n",
    "categorical_feats = [\n",
    "    'market_id',\n",
    "    'order_protocol',\n",
    "    'store_id_freq',\n",
    "    'store_category_type',\n",
    "]\n",
    "\n",
    "target = 'seconds_to_delivery'"
   ]
  },
  {
   "cell_type": "code",
   "execution_count": 62,
   "metadata": {},
   "outputs": [],
   "source": [
    "test_df_X = test_df[numeric_feats + categorical_feats]\n",
    "\n",
    "test_df_y = test_df[target]"
   ]
  },
  {
   "cell_type": "code",
   "execution_count": 63,
   "metadata": {},
   "outputs": [
    {
     "data": {
      "text/html": [
       "<div>\n",
       "<style scoped>\n",
       "    .dataframe tbody tr th:only-of-type {\n",
       "        vertical-align: middle;\n",
       "    }\n",
       "\n",
       "    .dataframe tbody tr th {\n",
       "        vertical-align: top;\n",
       "    }\n",
       "\n",
       "    .dataframe thead th {\n",
       "        text-align: right;\n",
       "    }\n",
       "</style>\n",
       "<table border=\"1\" class=\"dataframe\">\n",
       "  <thead>\n",
       "    <tr style=\"text-align: right;\">\n",
       "      <th></th>\n",
       "      <th>total_items</th>\n",
       "      <th>subtotal</th>\n",
       "      <th>num_distinct_items</th>\n",
       "      <th>total_onshift_dashers</th>\n",
       "      <th>total_busy_dashers</th>\n",
       "      <th>total_outstanding_orders</th>\n",
       "      <th>estimated_order_place_duration</th>\n",
       "      <th>estimated_store_to_consumer_driving_duration</th>\n",
       "      <th>item_price_range</th>\n",
       "      <th>hour_of_day</th>\n",
       "      <th>market_id</th>\n",
       "      <th>order_protocol</th>\n",
       "      <th>store_id_freq</th>\n",
       "      <th>store_category_type</th>\n",
       "    </tr>\n",
       "  </thead>\n",
       "  <tbody>\n",
       "    <tr>\n",
       "      <th>0</th>\n",
       "      <td>2</td>\n",
       "      <td>2450</td>\n",
       "      <td>2</td>\n",
       "      <td>32.0</td>\n",
       "      <td>50.0</td>\n",
       "      <td>29.0</td>\n",
       "      <td>251</td>\n",
       "      <td>487.0</td>\n",
       "      <td>50</td>\n",
       "      <td>03</td>\n",
       "      <td>4.0</td>\n",
       "      <td>3.0</td>\n",
       "      <td>[90-99)</td>\n",
       "      <td>other</td>\n",
       "    </tr>\n",
       "    <tr>\n",
       "      <th>1</th>\n",
       "      <td>1</td>\n",
       "      <td>875</td>\n",
       "      <td>1</td>\n",
       "      <td>124.0</td>\n",
       "      <td>121.0</td>\n",
       "      <td>201.0</td>\n",
       "      <td>251</td>\n",
       "      <td>601.0</td>\n",
       "      <td>0</td>\n",
       "      <td>01</td>\n",
       "      <td>4.0</td>\n",
       "      <td>5.0</td>\n",
       "      <td>99+</td>\n",
       "      <td>asian</td>\n",
       "    </tr>\n",
       "    <tr>\n",
       "      <th>2</th>\n",
       "      <td>4</td>\n",
       "      <td>2340</td>\n",
       "      <td>3</td>\n",
       "      <td>NaN</td>\n",
       "      <td>NaN</td>\n",
       "      <td>NaN</td>\n",
       "      <td>251</td>\n",
       "      <td>666.0</td>\n",
       "      <td>770</td>\n",
       "      <td>03</td>\n",
       "      <td>6.0</td>\n",
       "      <td>3.0</td>\n",
       "      <td>[0-50)</td>\n",
       "      <td>asian</td>\n",
       "    </tr>\n",
       "    <tr>\n",
       "      <th>3</th>\n",
       "      <td>1</td>\n",
       "      <td>2594</td>\n",
       "      <td>1</td>\n",
       "      <td>43.0</td>\n",
       "      <td>43.0</td>\n",
       "      <td>55.0</td>\n",
       "      <td>251</td>\n",
       "      <td>452.0</td>\n",
       "      <td>0</td>\n",
       "      <td>02</td>\n",
       "      <td>1.0</td>\n",
       "      <td>5.0</td>\n",
       "      <td>[75-90)</td>\n",
       "      <td>italian</td>\n",
       "    </tr>\n",
       "    <tr>\n",
       "      <th>4</th>\n",
       "      <td>6</td>\n",
       "      <td>3871</td>\n",
       "      <td>5</td>\n",
       "      <td>47.0</td>\n",
       "      <td>36.0</td>\n",
       "      <td>36.0</td>\n",
       "      <td>251</td>\n",
       "      <td>304.0</td>\n",
       "      <td>283</td>\n",
       "      <td>21</td>\n",
       "      <td>4.0</td>\n",
       "      <td>2.0</td>\n",
       "      <td>[90-99)</td>\n",
       "      <td>american</td>\n",
       "    </tr>\n",
       "  </tbody>\n",
       "</table>\n",
       "</div>"
      ],
      "text/plain": [
       "   total_items  subtotal  num_distinct_items  total_onshift_dashers  \\\n",
       "0            2      2450                   2                   32.0   \n",
       "1            1       875                   1                  124.0   \n",
       "2            4      2340                   3                    NaN   \n",
       "3            1      2594                   1                   43.0   \n",
       "4            6      3871                   5                   47.0   \n",
       "\n",
       "   total_busy_dashers  total_outstanding_orders  \\\n",
       "0                50.0                      29.0   \n",
       "1               121.0                     201.0   \n",
       "2                 NaN                       NaN   \n",
       "3                43.0                      55.0   \n",
       "4                36.0                      36.0   \n",
       "\n",
       "   estimated_order_place_duration  \\\n",
       "0                             251   \n",
       "1                             251   \n",
       "2                             251   \n",
       "3                             251   \n",
       "4                             251   \n",
       "\n",
       "   estimated_store_to_consumer_driving_duration  item_price_range hour_of_day  \\\n",
       "0                                         487.0                50          03   \n",
       "1                                         601.0                 0          01   \n",
       "2                                         666.0               770          03   \n",
       "3                                         452.0                 0          02   \n",
       "4                                         304.0               283          21   \n",
       "\n",
       "   market_id  order_protocol store_id_freq store_category_type  \n",
       "0        4.0             3.0       [90-99)               other  \n",
       "1        4.0             5.0           99+               asian  \n",
       "2        6.0             3.0        [0-50)               asian  \n",
       "3        1.0             5.0       [75-90)             italian  \n",
       "4        4.0             2.0       [90-99)            american  "
      ]
     },
     "execution_count": 63,
     "metadata": {},
     "output_type": "execute_result"
    }
   ],
   "source": [
    "test_df_X.head()"
   ]
  },
  {
   "cell_type": "code",
   "execution_count": 64,
   "metadata": {},
   "outputs": [
    {
     "data": {
      "text/plain": [
       "0    1335.0\n",
       "1    3290.0\n",
       "2    2616.0\n",
       "3    1642.0\n",
       "4    1976.0\n",
       "Name: seconds_to_delivery, dtype: float64"
      ]
     },
     "execution_count": 64,
     "metadata": {},
     "output_type": "execute_result"
    }
   ],
   "source": [
    "test_df_y.head()"
   ]
  },
  {
   "cell_type": "markdown",
   "metadata": {},
   "source": [
    "**Evaluate on Test Set**\n",
    "\n",
    "Our test data is prepped, and we're ready to evaluate our model on the test data."
   ]
  },
  {
   "cell_type": "code",
   "execution_count": 65,
   "metadata": {},
   "outputs": [],
   "source": [
    "import sys\n",
    "sys.path.append('../utils')\n",
    "import custom_transformers"
   ]
  },
  {
   "cell_type": "code",
   "execution_count": 66,
   "metadata": {},
   "outputs": [],
   "source": [
    "import joblib\n",
    "from custom_transformers import DropHighlyCorrelatedFeatures\n",
    "\n",
    "# Load the saved model\n",
    "loaded_model = joblib.load('../models/best_model.pkl')"
   ]
  },
  {
   "cell_type": "code",
   "execution_count": 68,
   "metadata": {},
   "outputs": [
    {
     "name": "stdout",
     "output_type": "stream",
     "text": [
      "Test RMSE: 1080.7058538615915\n"
     ]
    },
    {
     "name": "stderr",
     "output_type": "stream",
     "text": [
      "c:\\Users\\jimin\\OneDrive\\Documents\\Northwestern\\Job Stuff\\stratascratch\\projects\\Delivery Duration\\venv\\lib\\site-packages\\sklearn\\preprocessing\\_encoders.py:246: UserWarning: Found unknown categories in columns [0, 1] during transform. These unknown categories will be encoded as all zeros\n",
      "  warnings.warn(\n"
     ]
    }
   ],
   "source": [
    "from sklearn.metrics import root_mean_squared_error\n",
    "\n",
    "# Make predictions\n",
    "y_pred = loaded_model.predict(test_df_X)\n",
    "\n",
    "# Compute root mean squared error\n",
    "test_rmse = root_mean_squared_error(test_df_y, y_pred)\n",
    "\n",
    "print(\"Test RMSE:\", test_rmse)"
   ]
  },
  {
   "cell_type": "markdown",
   "metadata": {},
   "source": [
    "Final Result Summary:\n",
    "- On average, our predictions for delivery duration are ~18 minutes off from the true delivery duration, approximately 30 seconds worse than the performance we were seeing during cross-validation.\n",
    "- So overall, pretty bad. For any food delivery service looking to model delivery duration time, I certainly would not recommend relying on this model as an endpoint. \n",
    "\n",
    "Future Considerations:\n",
    "- From here, maybe looking at important features that came up during prediction & looking to gather more data related to those identified features would be a logical next step to improve model performance? \n",
    "- Additionally, a lot of the original feature set were ID values without any context (market_id, order_protocol), so getting more info on what those features meant may be helpful to improve some of the mapping/encoding decisions we made during the feature engineering process."
   ]
  }
 ],
 "metadata": {
  "kernelspec": {
   "display_name": "venv",
   "language": "python",
   "name": "python3"
  },
  "language_info": {
   "codemirror_mode": {
    "name": "ipython",
    "version": 3
   },
   "file_extension": ".py",
   "mimetype": "text/x-python",
   "name": "python",
   "nbconvert_exporter": "python",
   "pygments_lexer": "ipython3",
   "version": "3.10.1"
  }
 },
 "nbformat": 4,
 "nbformat_minor": 2
}
